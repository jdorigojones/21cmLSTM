{
 "cells": [
  {
   "cell_type": "code",
   "execution_count": null,
   "id": "413d7121-b8a9-48ff-9ce3-d0d91ed6192b",
   "metadata": {},
   "outputs": [],
   "source": [
    "import Global21cmLSTM as Global21cmLSTM\n",
    "import tensorflow as tf\n",
    "from matplotlib import pyplot as plt\n",
    "\n",
    "# this code trains an instance of 21cmLSTM using the \"21cmGEM\" training and validation sets (Section 2.2, DJ+24)\n",
    "# using the quoted architecture (Section 2.1), preprocessing (Section 2.2), and training configuration (Section 2.3)\n",
    "# and plots the training set loss and validation set loss for each epoch number\n",
    "# and prints the mean relative rms error when evaluated on the parameter values of the 1,704 signals in the test set\n",
    "\n",
    "emulator_21cmGEM = Global21cmLSTM.emulator_21cmGEM.Emulate() # initialize emulator for 21cmGEM data\n",
    "emulator_21cmGEM.emulator.summary() # print architecture and characterisitcs of the network to train\n",
    "\n",
    "loss_mse = 'mse' # using MSE loss function for training\n",
    "learning_rate = 0.001 # using default for Keras Adam optimizer\n",
    "Adam = tf.keras.optimizers.Adam(learning_rate)\n",
    "emulator_21cmGEM.emulator.compile(optimizer=Adam, loss=loss_mse)\n",
    "\n",
    "train_loss_ep10_1, val_loss_ep10_1 = emulator_21cmGEM.train(epochs=75, batch_size=10)\n",
    "train_loss_ep1, val_loss_ep1 = emulator_21cmGEM.train(epochs=25, batch_size=1)\n",
    "train_loss_ep10_2, val_loss_ep10_2 = emulator_21cmGEM.train(epochs=75, batch_size=10)\n",
    "\n",
    "train_loss = train_loss_ep10_1+train_loss_ep1+train_loss_ep10_2\n",
    "val_loss = val_loss_ep10_1+val_loss_ep1+val_loss_ep10_2\n",
    "\n",
    "fig, ax = plt.subplots(constrained_layout=True)\n",
    "ax.plot(train_loss, label='Training set')\n",
    "ax.plot(val_loss, label='Validation set')\n",
    "ax.legend()\n",
    "ax.set_xlabel('Epoch number')\n",
    "ax.set_ylabel(r'MSE loss (mK$^2$)')\n",
    "ax.set_yscale('log')\n",
    "plt.savefig('LSTM_21cmGEM_loss.png', dpi = 300, bbox_inches='tight', facecolor='w')\n",
    "plt.show()\n",
    "\n",
    "rmse = emulator_21cmGEM.test_error()\n",
    "print('the mean relative rms error of this trial of 21cmLSTM when trained and tested on the 21cmGEM set is:', rmse.mean(), '%')"
   ]
  }
 ],
 "metadata": {
  "kernelspec": {
   "display_name": "Python 3 (ipykernel)",
   "language": "python",
   "name": "python3"
  },
  "language_info": {
   "codemirror_mode": {
    "name": "ipython",
    "version": 3
   },
   "file_extension": ".py",
   "mimetype": "text/x-python",
   "name": "python",
   "nbconvert_exporter": "python",
   "pygments_lexer": "ipython3",
   "version": "3.9.18"
  }
 },
 "nbformat": 4,
 "nbformat_minor": 5
}
