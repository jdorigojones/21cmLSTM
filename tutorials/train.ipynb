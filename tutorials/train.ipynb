{
 "cells": [
  {
   "cell_type": "code",
   "execution_count": null,
   "id": "413d7121-b8a9-48ff-9ce3-d0d91ed6192b",
   "metadata": {},
   "outputs": [],
   "source": [
    "from matplotlib import pyplot as plt\n",
    "import tensorflow as tf\n",
    "import cosmoLSTM as cosmoLSTM\n",
    "\n",
    "emulator = cosmoLSTM.emulator.Emulate()\n",
    "emulator.emulator.summary()\n",
    "\n",
    "loss_mse = 'mse' # loss function for training\n",
    "learning_rate = 0.001 #default for keras adam optimizer\n",
    "adam = tf.keras.optimizers.Adam(learning_rate)\n",
    "emulator.emulator.compile(optimizer=adam, loss=loss_mse)\n",
    "\n",
    "# train\n",
    "train_loss, val_loss = emulator.train(epochs=75, batch_size=10) # training on 27,292*0.90 = 24,562 signals\n",
    "train_loss, val_loss = emulator.train(epochs=25, batch_size=1)\n",
    "train_loss, val_loss = emulator.train(epochs=75, batch_size=10)\n",
    "\n",
    "fig, ax = plt.subplots(constrained_layout=True)\n",
    "ax.plot(train_loss, label='Training set')\n",
    "ax.plot(val_loss, label='Validation set')\n",
    "ax.legend()\n",
    "ax.set_xlabel('Epoch number')\n",
    "ax.set_ylabel(r'Loss (normalized $\\delta T_b$)')\n",
    "ax.set_yscale('log')\n",
    "plt.show()\n",
    "\n",
    "rmse = emulator.test_error()\n",
    "print('the mean relative rms error of this trial of 21cmLSTM when trained and tested on the 21cmGEM set is:', rmse.mean(), '%')"
   ]
  }
 ],
 "metadata": {
  "kernelspec": {
   "display_name": "Python 3 (ipykernel)",
   "language": "python",
   "name": "python3"
  },
  "language_info": {
   "codemirror_mode": {
    "name": "ipython",
    "version": 3
   },
   "file_extension": ".py",
   "mimetype": "text/x-python",
   "name": "python",
   "nbconvert_exporter": "python",
   "pygments_lexer": "ipython3",
   "version": "3.9.18"
  }
 },
 "nbformat": 4,
 "nbformat_minor": 5
}
