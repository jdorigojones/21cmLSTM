{
 "cells": [
  {
   "cell_type": "code",
   "execution_count": null,
   "id": "3bf56175-be7b-45a8-9ae2-2d1a28227557",
   "metadata": {},
   "outputs": [],
   "source": [
    "import cosmoLSTM as cosmoLSTM\n",
    "\n",
    "emulator = cosmoLSTM.emulator.Emulate()\n",
    "emulator.load_model()  # load pretrained instance of 21cmLSTM emulator. Use kwarg 'model_path' to load other models.\n",
    "\n",
    "emulator.emulator.summary()\n",
    "\n",
    "# print the input physical parameters\n",
    "print(emulator.par_labels)\n",
    "\n",
    "params = [0.0003, 4.2, 0, 0.055, 1.0, 0.1, 10]  # in the order given in the above cell\n",
    "\n",
    "# alternatively, params can be a (N, 7)-numpy array, where N is the number of different cases you want to emulate at once.\n",
    "# In that case, the output is a (N, 451)-numpy array. \n",
    "# For example, if you have a csv file with 500 cases organized in a 500x7-table, just do \n",
    "# params = np.loadtxt(<filepath>)\n",
    "\n",
    "signal_emulated = emulator.predict(params)  # emulate the global signal\n",
    "\n",
    "import matplotlib.pyplot as plt\n",
    "frequencies = emulator.frequencies  # array of frequencies (dz=0.1, length=451)\n",
    "plt.figure()\n",
    "plt.plot(frequencies, signal_emulated)\n",
    "plt.title('Predicted Global 21 signal')\n",
    "plt.xlabel(r'$\\nu$ (MHz)')\n",
    "plt.ylabel(r'$\\delta T_b$ (mK)')\n",
    "plt.show()\n",
    "\n",
    "import numpy as np\n",
    "rel_error = emulator.test_error()\n",
    "abs_error = emulator.test_error(relative=False, nu_low=50, nu_high=100)\n",
    "# compute the relative rms error for this instance of 21cmLSTM evaluated on the same 21cmGEM test set used in the paper\n",
    "# compute the absolute rms error in the frequency range 50-100 MHz\n",
    "print('Mean relative rms error:', np.mean(rel_error), '%')\n",
    "print('Mean absolute rms error for 50-100 MHz:', np.mean(abs_error), 'mK')\n",
    "# the results should fall within the range found for 21cmLSTM when trained and tested on the 21cmGEM set for 20 trials (Fig. 2 in paper)\n",
    "\n",
    "# Histogram of relative rms errors for this instance of 21cmLSTM, should look similar to top right panel of Fig. 1 in the paper\n",
    "plt.hist(rel_error, bins=50)\n",
    "plt.show()"
   ]
  }
 ],
 "metadata": {
  "kernelspec": {
   "display_name": "Python 3 (ipykernel)",
   "language": "python",
   "name": "python3"
  },
  "language_info": {
   "codemirror_mode": {
    "name": "ipython",
    "version": 3
   },
   "file_extension": ".py",
   "mimetype": "text/x-python",
   "name": "python",
   "nbconvert_exporter": "python",
   "pygments_lexer": "ipython3",
   "version": "3.9.18"
  }
 },
 "nbformat": 4,
 "nbformat_minor": 5
}
