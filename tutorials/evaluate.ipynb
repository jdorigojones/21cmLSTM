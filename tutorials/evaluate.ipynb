{
 "cells": [
  {
   "cell_type": "code",
   "execution_count": null,
   "id": "3bf56175-be7b-45a8-9ae2-2d1a28227557",
   "metadata": {},
   "outputs": [],
   "source": [
    "import numpy as np\n",
    "import matplotlib.pyplot as plt\n",
    "import cosmoLSTM as cosmoLSTM\n",
    "\n",
    "emulator = cosmoLSTM.emulator.Emulate() # initialize emulator with 21cmGEM data sets\n",
    "emulator.load_model()  # load pretrained instance of 21cmLSTM emulator. Use kwarg 'model_path' to load other models.\n",
    "emulator.emulator.summary()\n",
    "print(emulator.par_labels) # print the input physical parameters\n",
    "\n",
    "# define list of parameters. can also be shape (N_signals,7)\n",
    "params = emulator.par_test.copy() # grab the test set parameters: \"fstar\", \"Vc\", \"fx\", \"tau\", \"alpha\", \"nu_min\", \"Rmfp\"\n",
    "signals_emulated = emulator.predict(params)  # emulate the global 21 cm signals\n",
    "signals_true = emulator.signal_test.copy()\n",
    "\n",
    "frequencies = emulator.frequencies  # array of frequencies (dz=0.1, length=451)\n",
    "plt.figure()\n",
    "for i in range(np.shape(params)[0]):\n",
    "    plt.plot(frequencies, signals_emulated[i], color='r', alpha=0.1)\n",
    "    plt.plot(frequencies, signals_true[i], color='k', alpha=0.1)\n",
    "plt.xlabel(r'$\\nu$ (MHz)')\n",
    "plt.ylabel(r'$\\delta T_b$ (mK)')\n",
    "plt.savefig('21cmLSTM_21cmGEM_run1.png', dpi = 300, bbox_inches='tight', facecolor='w')\n",
    "plt.show()\n",
    "\n",
    "# compute the relative rms error for this instance of 21cmLSTM evaluated on the same 21cmGEM test set used in the paper\n",
    "# the results should fall within the range found for 21cmLSTM when trained and tested on the 21cmGEM set for 20 trials (Fig. 2 in paper)\n",
    "rel_error = emulator.test_error()\n",
    "abs_error = emulator.test_error(relative=False)\n",
    "abs_error_nu_50_100 = emulator.test_error(relative=False, nu_low=50, nu_high=100)\n",
    "print('Mean relative rms error:', np.mean(rel_error), '%')\n",
    "print('Mean absolute rms error:', np.mean(abs_error), 'mK')\n",
    "print('Mean absolute rms error for 50-100 MHz:', np.mean(abs_error_nu_50_100), 'mK')\n",
    "\n",
    "# Histogram of relative rms errors for this instance of 21cmLSTM, should look similar to top right panel of Fig. 1 in the paper\n",
    "plt.hist(rel_error, bins=50)\n",
    "plt.show()"
   ]
  }
 ],
 "metadata": {
  "kernelspec": {
   "display_name": "Python 3 (ipykernel)",
   "language": "python",
   "name": "python3"
  },
  "language_info": {
   "codemirror_mode": {
    "name": "ipython",
    "version": 3
   },
   "file_extension": ".py",
   "mimetype": "text/x-python",
   "name": "python",
   "nbconvert_exporter": "python",
   "pygments_lexer": "ipython3",
   "version": "3.9.18"
  }
 },
 "nbformat": 4,
 "nbformat_minor": 5
}
